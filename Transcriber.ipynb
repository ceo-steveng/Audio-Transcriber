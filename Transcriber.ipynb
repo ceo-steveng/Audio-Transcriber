pip install git+https://github.com/openai/whisper.git 

import whisper